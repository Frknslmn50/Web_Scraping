{
 "cells": [
  {
   "cell_type": "markdown",
   "metadata": {},
   "source": [
    "# Web Scraping"
   ]
  },
  {
   "cell_type": "code",
   "execution_count": 2,
   "metadata": {},
   "outputs": [],
   "source": [
    "import requests\n",
    "from bs4 import BeautifulSoup\n",
    "import pandas as pd\n",
    "import numpy as np"
   ]
  },
  {
   "cell_type": "code",
   "execution_count": 3,
   "metadata": {},
   "outputs": [],
   "source": [
    "def get_clinic_name(clinic_id):\n",
    "    url = f\"https://{str(clinic_id)}.portal.athenahealth.com/\"\n",
    "    r = requests.get(url)\n",
    "    soup = BeautifulSoup(r.text, 'html.parser')\n",
    "    clinic_name = soup.find_all('h1')[-1].text.strip()\n",
    "    return clinic_name"
   ]
  },
  {
   "cell_type": "code",
   "execution_count": 6,
   "metadata": {},
   "outputs": [],
   "source": [
    "def get_all_clinics_to_csv(start, end):\n",
    "    master_list = []\n",
    "    for clinic_id in range(start, end):\n",
    "        try:\n",
    "            clinic_dict = {}\n",
    "            clinic_dict[\"clinic_id\"] = clinic_id\n",
    "            clinic_dict[\"clinic_name\"] = get_clinic_name(clinic_id)\n",
    "            if clinic_dict[\"clinic_name\"] != \"Sorry, we can't find that practice. Make sure you typed the right address.\" and clinic_dict[\"clinic_name\"] != 'Payment Confirmation':\n",
    "                master_list.append(clinic_dict)\n",
    "            print(clinic_dict)\n",
    "        except:\n",
    "            pass\n",
    "    df = pd.DataFrame(master_list)\n",
    "    df.to_csv(\"clinics.csv\", index=False)\n",
    "    return df"
   ]
  },
  {
   "cell_type": "code",
   "execution_count": 8,
   "metadata": {},
   "outputs": [
    {
     "name": "stdout",
     "output_type": "stream",
     "text": [
      "{'clinic_id': 12600, 'clinic_name': 'Samaritan Health Ministries'}\n",
      "{'clinic_id': 12601, 'clinic_name': \"Sorry, we can't find that practice. Make sure you typed the right address.\"}\n",
      "{'clinic_id': 12602, 'clinic_name': 'Erika Hegland, DO'}\n",
      "{'clinic_id': 12603, 'clinic_name': 'Mid America Sleep Service'}\n",
      "{'clinic_id': 12604, 'clinic_name': 'Bridgeway Rehabilitation Services'}\n",
      "{'clinic_id': 12605, 'clinic_name': \"Sorry, we can't find that practice. Make sure you typed the right address.\"}\n",
      "{'clinic_id': 12606, 'clinic_name': 'Payment Confirmation'}\n",
      "{'clinic_id': 12607, 'clinic_name': \"Dr.'s Choice Physical Therapy\"}\n",
      "{'clinic_id': 12608, 'clinic_name': 'Physicians Care of Starke & Keystone'}\n",
      "{'clinic_id': 12609, 'clinic_name': 'Payment Confirmation'}\n",
      "{'clinic_id': 12610, 'clinic_name': 'New Haven Neurosurgical Associates'}\n",
      "{'clinic_id': 12611, 'clinic_name': 'DBHMD Medicine, P.A.'}\n",
      "{'clinic_id': 12612, 'clinic_name': 'Fremont Family Medicine PC'}\n",
      "{'clinic_id': 12613, 'clinic_name': \"Sorry, we can't find that practice. Make sure you typed the right address.\"}\n",
      "{'clinic_id': 12614, 'clinic_name': 'Payment Confirmation'}\n",
      "{'clinic_id': 12615, 'clinic_name': 'Stoney Mesa Family Practice'}\n",
      "{'clinic_id': 12616, 'clinic_name': 'Amity Medical Group, Inc.'}\n",
      "{'clinic_id': 12617, 'clinic_name': \"Sorry, we can't find that practice. Make sure you typed the right address.\"}\n",
      "{'clinic_id': 12618, 'clinic_name': 'Gary W. Muller M.D.'}\n",
      "{'clinic_id': 12619, 'clinic_name': 'Payment Confirmation'}\n",
      "{'clinic_id': 12620, 'clinic_name': 'Payment Confirmation'}\n",
      "{'clinic_id': 12621, 'clinic_name': 'George N. Chidi, MD PA'}\n",
      "{'clinic_id': 12622, 'clinic_name': 'New York Dermatology & Mohs Surgery Group, PLLC'}\n",
      "{'clinic_id': 12623, 'clinic_name': 'Sound Beach Pediatrics'}\n",
      "{'clinic_id': 12624, 'clinic_name': 'Sacred Heart Pediatrics'}\n",
      "{'clinic_id': 12625, 'clinic_name': 'Mahesh Mathews, MD'}\n",
      "{'clinic_id': 12626, 'clinic_name': 'Adam Milik MD'}\n",
      "{'clinic_id': 12627, 'clinic_name': 'Payment Confirmation'}\n",
      "{'clinic_id': 12628, 'clinic_name': \"Sorry, we can't find that practice. Make sure you typed the right address.\"}\n",
      "{'clinic_id': 12629, 'clinic_name': 'Payment Confirmation'}\n",
      "{'clinic_id': 12630, 'clinic_name': \"Sorry, we can't find that practice. Make sure you typed the right address.\"}\n",
      "{'clinic_id': 12631, 'clinic_name': 'Dr. David Matthews'}\n",
      "{'clinic_id': 12632, 'clinic_name': 'Payment Confirmation'}\n",
      "{'clinic_id': 12633, 'clinic_name': 'Payment Confirmation'}\n",
      "{'clinic_id': 12634, 'clinic_name': 'Payment Confirmation'}\n",
      "{'clinic_id': 12635, 'clinic_name': 'Thomasville Internal Medicine, LLC'}\n",
      "{'clinic_id': 12636, 'clinic_name': 'Regis Kwo MD'}\n",
      "{'clinic_id': 12637, 'clinic_name': 'Payment Confirmation'}\n",
      "{'clinic_id': 12638, 'clinic_name': 'Monahan, Kevin'}\n",
      "{'clinic_id': 12639, 'clinic_name': 'AVICENNA MEDICAL CLINIC'}\n",
      "{'clinic_id': 12640, 'clinic_name': \"Sorry, we can't find that practice. Make sure you typed the right address.\"}\n",
      "{'clinic_id': 12641, 'clinic_name': 'SDM-1 Stop Primary and Urgent Care'}\n",
      "{'clinic_id': 12642, 'clinic_name': 'Achilles Health Care Services'}\n",
      "{'clinic_id': 12643, 'clinic_name': \"Sorry, we can't find that practice. Make sure you typed the right address.\"}\n",
      "{'clinic_id': 12644, 'clinic_name': 'Payment Confirmation'}\n",
      "{'clinic_id': 12645, 'clinic_name': 'Foot and Ankle Care of South Jersey'}\n",
      "{'clinic_id': 12646, 'clinic_name': 'Adeeb Thomas'}\n",
      "{'clinic_id': 12647, 'clinic_name': 'Kingdom Natural Medicine'}\n",
      "{'clinic_id': 12648, 'clinic_name': \"Sorry, we can't find that practice. Make sure you typed the right address.\"}\n",
      "{'clinic_id': 12649, 'clinic_name': 'David L Samani MD'}\n"
     ]
    },
    {
     "data": {
      "text/html": [
       "<div>\n",
       "<style scoped>\n",
       "    .dataframe tbody tr th:only-of-type {\n",
       "        vertical-align: middle;\n",
       "    }\n",
       "\n",
       "    .dataframe tbody tr th {\n",
       "        vertical-align: top;\n",
       "    }\n",
       "\n",
       "    .dataframe thead th {\n",
       "        text-align: right;\n",
       "    }\n",
       "</style>\n",
       "<table border=\"1\" class=\"dataframe\">\n",
       "  <thead>\n",
       "    <tr style=\"text-align: right;\">\n",
       "      <th></th>\n",
       "      <th>clinic_id</th>\n",
       "      <th>clinic_name</th>\n",
       "    </tr>\n",
       "  </thead>\n",
       "  <tbody>\n",
       "    <tr>\n",
       "      <th>0</th>\n",
       "      <td>12600</td>\n",
       "      <td>Samaritan Health Ministries</td>\n",
       "    </tr>\n",
       "    <tr>\n",
       "      <th>1</th>\n",
       "      <td>12602</td>\n",
       "      <td>Erika Hegland, DO</td>\n",
       "    </tr>\n",
       "    <tr>\n",
       "      <th>2</th>\n",
       "      <td>12603</td>\n",
       "      <td>Mid America Sleep Service</td>\n",
       "    </tr>\n",
       "    <tr>\n",
       "      <th>3</th>\n",
       "      <td>12604</td>\n",
       "      <td>Bridgeway Rehabilitation Services</td>\n",
       "    </tr>\n",
       "    <tr>\n",
       "      <th>4</th>\n",
       "      <td>12607</td>\n",
       "      <td>Dr.'s Choice Physical Therapy</td>\n",
       "    </tr>\n",
       "  </tbody>\n",
       "</table>\n",
       "</div>"
      ],
      "text/plain": [
       "   clinic_id                        clinic_name\n",
       "0      12600        Samaritan Health Ministries\n",
       "1      12602                  Erika Hegland, DO\n",
       "2      12603          Mid America Sleep Service\n",
       "3      12604  Bridgeway Rehabilitation Services\n",
       "4      12607      Dr.'s Choice Physical Therapy"
      ]
     },
     "execution_count": 8,
     "metadata": {},
     "output_type": "execute_result"
    }
   ],
   "source": [
    "df = get_all_clinics_to_csv(12600,12650)\n",
    "df.head()"
   ]
  }
 ],
 "metadata": {
  "kernelspec": {
   "display_name": "Python 3",
   "language": "python",
   "name": "python3"
  },
  "language_info": {
   "codemirror_mode": {
    "name": "ipython",
    "version": 3
   },
   "file_extension": ".py",
   "mimetype": "text/x-python",
   "name": "python",
   "nbconvert_exporter": "python",
   "pygments_lexer": "ipython3",
   "version": "3.9.0"
  }
 },
 "nbformat": 4,
 "nbformat_minor": 2
}

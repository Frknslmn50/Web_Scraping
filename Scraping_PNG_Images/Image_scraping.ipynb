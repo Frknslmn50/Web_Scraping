{
 "cells": [
  {
   "cell_type": "markdown",
   "metadata": {},
   "source": [
    "# Web Scraping For PNG Images at : https://www.pngmart.com"
   ]
  },
  {
   "cell_type": "code",
   "execution_count": 3,
   "metadata": {},
   "outputs": [],
   "source": [
    "import requests\n",
    "from bs4 import BeautifulSoup"
   ]
  },
  {
   "cell_type": "code",
   "execution_count": 44,
   "metadata": {},
   "outputs": [],
   "source": [
    "def get_urls_from_sitemap(site_map):\n",
    "    \"\"\"\n",
    "    Extract image URLs from a sitemap XML.\n",
    "\n",
    "    Parameters:\n",
    "    - site_map (str): URL of the sitemap.\n",
    "\n",
    "    Returns:\n",
    "    - list: List of image URLs found in the sitemap.\n",
    "    \"\"\"\n",
    "    response = requests.get(site_map)\n",
    "    xml = response.text\n",
    "    image_urls = []\n",
    "    soup = BeautifulSoup(xml, \"xml\")\n",
    "    \n",
    "    # Extract URLs containing \"image\" in the <loc> tag\n",
    "    for loc in soup.find_all(\"loc\"):\n",
    "        if \"image\" in loc.text:\n",
    "            image_urls.append(loc.text)\n",
    "    \n",
    "    return image_urls\n",
    "\n",
    "def save_image_from_url(image_url, file_name):\n",
    "    \"\"\"\n",
    "    Download and save an image from a given URL.\n",
    "\n",
    "    Parameters:\n",
    "    - image_url (str): URL of the image.\n",
    "    - file_name (str): Name of the directory to save the image.\n",
    "\n",
    "    Saves the image with a filename constructed from the image URL.\n",
    "    \"\"\"\n",
    "    response = requests.get(image_url)\n",
    "    soup = BeautifulSoup(response.text, \"html.parser\")\n",
    "    \n",
    "    # Extract the image source URL\n",
    "    image_source = soup.find(\"a\", {\"class\": \"download\"})[\"href\"]\n",
    "    image = requests.get(image_source)\n",
    "\n",
    "    # Create a unique filename for the saved image\n",
    "    image_id = image_url.split(\"/\")[-1]\n",
    "    image_name = image_source.split(\"/\")[-1]\n",
    "    image_title = image_id + \"-\" + image_name\n",
    "    \n",
    "    # Save the image to the specified directory\n",
    "    with open(f\"{file_name}/{image_title}\", \"wb\") as f:\n",
    "        f.write(image.content)\n",
    "\n",
    "def get_images_from_site_map_url(site_map_url, file_name, limit=100):\n",
    "    \"\"\"\n",
    "    Download images from URLs specified in a sitemap up to a specified limit.\n",
    "\n",
    "    Parameters:\n",
    "    - site_map_url (str): URL of the sitemap.\n",
    "    - file_name (str): Name of the directory to save the images.\n",
    "    - limit (int): Maximum number of images to download.\n",
    "\n",
    "    Downloads images from URLs in the sitemap up to the specified limit.\n",
    "    \"\"\"\n",
    "    response = requests.get(site_map_url)\n",
    "    xml = response.text\n",
    "    soup = BeautifulSoup(xml, \"xml\")\n",
    "    site_maps = []\n",
    "    count = 0\n",
    "\n",
    "    # Extract URLs of individual sitemaps\n",
    "    for loc in soup.find_all(\"loc\"):\n",
    "        site_maps.append(loc.text)\n",
    "\n",
    "    # Iterate through individual sitemaps\n",
    "    for site_map in site_maps:\n",
    "        # Get image URLs from the current sitemap\n",
    "        image_urls = get_urls_from_sitemap(site_map)\n",
    "\n",
    "        # Download and save each image\n",
    "        for image_url in image_urls:\n",
    "            save_image_from_url(image_url, file_name)\n",
    "            count += 1\n",
    "\n",
    "            # Check if the download limit is reached\n",
    "            if count == limit:\n",
    "                break\n",
    "\n",
    "        # Check if the download limit is reached\n",
    "        if count == limit:\n",
    "            break  # Break out of the outer loop when the limit is reached"
   ]
  },
  {
   "cell_type": "code",
   "execution_count": 45,
   "metadata": {},
   "outputs": [],
   "source": [
    "site_map_url = \"https://www.pngmart.com/sitemap.xml\""
   ]
  },
  {
   "cell_type": "code",
   "execution_count": 47,
   "metadata": {},
   "outputs": [],
   "source": [
    "get_images_from_site_map_url(site_map_url, \"images\")"
   ]
  }
 ],
 "metadata": {
  "kernelspec": {
   "display_name": "Python 3",
   "language": "python",
   "name": "python3"
  },
  "language_info": {
   "codemirror_mode": {
    "name": "ipython",
    "version": 3
   },
   "file_extension": ".py",
   "mimetype": "text/x-python",
   "name": "python",
   "nbconvert_exporter": "python",
   "pygments_lexer": "ipython3",
   "version": "3.9.0"
  }
 },
 "nbformat": 4,
 "nbformat_minor": 2
}

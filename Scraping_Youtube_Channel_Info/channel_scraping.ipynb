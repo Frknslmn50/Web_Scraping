{
 "cells": [
  {
   "cell_type": "markdown",
   "metadata": {},
   "source": [
    "# Scraping Video Information from Youtube Channel : https://www.youtube.com/@ExploreWithUs/videos"
   ]
  },
  {
   "cell_type": "code",
   "execution_count": 1,
   "metadata": {},
   "outputs": [],
   "source": [
    "import requests\n",
    "from bs4 import BeautifulSoup\n",
    "from selenium.webdriver.common.keys import Keys\n",
    "from selenium import webdriver\n",
    "from selenium.webdriver.common.by import By\n",
    "from selenium.webdriver.chrome.service import Service\n",
    "from webdriver_manager.chrome import ChromeDriverManager\n",
    "import time\n",
    "import pandas as pd"
   ]
  },
  {
   "cell_type": "code",
   "execution_count": 2,
   "metadata": {},
   "outputs": [],
   "source": [
    "def capture_whole_page(driver, sleep_time=4):\n",
    "    while True:\n",
    "        # Get the current scroll position\n",
    "        current_scroll_position = driver.execute_script(\"return window.scrollY;\")\n",
    "        \n",
    "        # Scroll to the bottom of the page\n",
    "        driver.find_element(By.TAG_NAME, 'body').send_keys(Keys.END)\n",
    "\n",
    "        # Wait for some time to allow content to load\n",
    "        time.sleep(sleep_time)\n",
    "\n",
    "        # Get the new scroll position\n",
    "        new_scroll_position = driver.execute_script(\"return window.scrollY;\")\n",
    "        \n",
    "        # If the scroll position did not increase, break the loop\n",
    "        if new_scroll_position <= current_scroll_position:\n",
    "            break"
   ]
  },
  {
   "cell_type": "code",
   "execution_count": 3,
   "metadata": {},
   "outputs": [],
   "source": [
    "def store_video_data(videos):\n",
    "    list_of_dicts = []\n",
    "    for video in videos:\n",
    "        data_dict = {}\n",
    "        title_and_link = video.find(\"a\", {\"id\" : \"video-title-link\"})\n",
    "        meta = video.find(\"div\", {\"id\" : \"metadata-line\"}).find_all(\"span\")\n",
    "        data_dict[\"views\"] = meta[0].text.split()[0]\n",
    "        data_dict[\"video_age\"] = meta[1].text\n",
    "        data_dict[\"title\"] = title_and_link.text\n",
    "        data_dict[\"url\"] = \"https://www.youtube.com\" + title_and_link['href']\n",
    "        list_of_dicts.append(data_dict)\n",
    "    return list_of_dicts"
   ]
  },
  {
   "cell_type": "code",
   "execution_count": 4,
   "metadata": {},
   "outputs": [],
   "source": [
    "def get_video_data_from_channel(driver,channel_url,channel_name=None, use_name = True, sleep_time=4):\n",
    "    if use_name:\n",
    "        channel_url =  f\"https://www.youtube.com/@{channel_name}/videos\"\n",
    "\n",
    "    # Open the channel url    \n",
    "    driver.get(channel_url)\n",
    "\n",
    "    # Scroll down to the bottom of the page until all videos are loaded\n",
    "    capture_whole_page(driver)\n",
    "\n",
    "    # Get the page source\n",
    "    html = driver.page_source\n",
    "\n",
    "    # Parse the page source using BeautifulSoup\n",
    "    soup = BeautifulSoup(html, 'html.parser')\n",
    "\n",
    "    # Get all the video containers\n",
    "    videos = soup.find_all('div', {'id' : 'dismissible'})\n",
    "\n",
    "    # Store the video data in a list of dictionaries\n",
    "    list_of_dicts = store_video_data(videos)\n",
    "    \n",
    "    # Create a dataframe from the list of dictionaries\n",
    "    df = pd.DataFrame(list_of_dicts)\n",
    "    return df"
   ]
  },
  {
   "cell_type": "markdown",
   "metadata": {},
   "source": [
    "# Preprocessing the data into correct format"
   ]
  },
  {
   "cell_type": "code",
   "execution_count": 8,
   "metadata": {},
   "outputs": [],
   "source": [
    "from datetime import datetime, timedelta\n",
    "# Convert relative time to datetime object\n",
    "def convert_relative_time(relative_time):\n",
    "    if \"hours\" in relative_time or \"hour\" in relative_time:\n",
    "        hours = int(relative_time.split()[0])\n",
    "        return datetime.now() - timedelta(hours=hours)\n",
    "    elif \"minutes\" in relative_time or \"minute\" in relative_time:\n",
    "        minutes = int(relative_time.split()[0])\n",
    "        return datetime.now() - timedelta(minutes=minutes)\n",
    "    elif \"seconds\" in relative_time or \"second\" in relative_time:\n",
    "        seconds = int(relative_time.split()[0])\n",
    "        return datetime.now() - timedelta(seconds=seconds)\n",
    "    elif \"days\" in relative_time or \"day\" in relative_time:\n",
    "        days = int(relative_time.split()[0])\n",
    "        return datetime.now() - timedelta(days=days)\n",
    "    elif \"weeks\" in relative_time or \"week\" in relative_time:\n",
    "        weeks = int(relative_time.split()[0])\n",
    "        return datetime.now() - timedelta(weeks=weeks)\n",
    "    elif \"months\" in relative_time or \"month\" in relative_time:\n",
    "        months = int(relative_time.split()[0])\n",
    "        return datetime.now() - timedelta(days=30 * months)  # Assuming a month is 30 days\n",
    "    elif \"years\" in relative_time or \"year\" in relative_time:\n",
    "        years = int(relative_time.split()[0])\n",
    "        return datetime.now() - timedelta(days=365 * years)  # Assuming a year is 365 days\n",
    "    else:\n",
    "        raise ValueError(\"Unsupported time format\")"
   ]
  },
  {
   "cell_type": "code",
   "execution_count": 9,
   "metadata": {},
   "outputs": [],
   "source": [
    "def preprocess_and_save_csv(df, channel_name):\n",
    "    # Remove \"B\", \"M\" and \"K\" from the views column and convert it to integer\n",
    "    df[\"views\"] = df[\"views\"].str.replace(\"B\", \"000000000\")\n",
    "    df[\"views\"] = df[\"views\"].str.replace(\"M\", \"000000\")\n",
    "    df[\"views\"] = df[\"views\"].str.replace(\"K\", \"000\")\n",
    "    df[\"views\"] = df[\"views\"].str.replace(\".\", \"\")\n",
    "    df[\"views\"] = df[\"views\"].astype(int)\n",
    "\n",
    "    # Get the estimation of the upload date from video age\n",
    "    df[\"upload_date(estimate)\"] = df[\"video_age\"].apply(convert_relative_time)\n",
    "    df[\"upload_date(estimate)\"] = df[\"upload_date(estimate)\"].dt.date\n",
    "\n",
    "    # Save the dataframe as a csv file\n",
    "    df.to_csv(f\"{channel_name}_videos.csv\", index=False)\n",
    "    return df"
   ]
  },
  {
   "cell_type": "code",
   "execution_count": 29,
   "metadata": {},
   "outputs": [
    {
     "name": "stderr",
     "output_type": "stream",
     "text": [
      "C:\\Users\\FURKANSALMAN\\AppData\\Local\\Temp\\ipykernel_9308\\3612273373.py:6: FutureWarning: The default value of regex will change from True to False in a future version. In addition, single character regular expressions will *not* be treated as literal strings when regex=True.\n",
      "  df[\"views\"] = df[\"views\"].str.replace(\".\", \"\")\n"
     ]
    },
    {
     "data": {
      "text/html": [
       "<div>\n",
       "<style scoped>\n",
       "    .dataframe tbody tr th:only-of-type {\n",
       "        vertical-align: middle;\n",
       "    }\n",
       "\n",
       "    .dataframe tbody tr th {\n",
       "        vertical-align: top;\n",
       "    }\n",
       "\n",
       "    .dataframe thead th {\n",
       "        text-align: right;\n",
       "    }\n",
       "</style>\n",
       "<table border=\"1\" class=\"dataframe\">\n",
       "  <thead>\n",
       "    <tr style=\"text-align: right;\">\n",
       "      <th></th>\n",
       "      <th>views</th>\n",
       "      <th>video_age</th>\n",
       "      <th>title</th>\n",
       "      <th>url</th>\n",
       "      <th>upload_date(estimate)</th>\n",
       "    </tr>\n",
       "  </thead>\n",
       "  <tbody>\n",
       "    <tr>\n",
       "      <th>0</th>\n",
       "      <td>49000</td>\n",
       "      <td>58 minutes ago</td>\n",
       "      <td>When a Killer Vlogs His Murders</td>\n",
       "      <td>https://www.youtube.com/watch?v=-vorUEpbHNU</td>\n",
       "      <td>2023-11-24</td>\n",
       "    </tr>\n",
       "    <tr>\n",
       "      <th>1</th>\n",
       "      <td>34000000</td>\n",
       "      <td>5 days ago</td>\n",
       "      <td>When Evil Teens Think Murder is Hilarious</td>\n",
       "      <td>https://www.youtube.com/watch?v=KC0GtU_Dtdo</td>\n",
       "      <td>2023-11-20</td>\n",
       "    </tr>\n",
       "    <tr>\n",
       "      <th>2</th>\n",
       "      <td>38000000</td>\n",
       "      <td>3 weeks ago</td>\n",
       "      <td>The Disturbing Case of Daniel Marsh</td>\n",
       "      <td>https://www.youtube.com/watch?v=Fwvm3pQCJlg</td>\n",
       "      <td>2023-11-04</td>\n",
       "    </tr>\n",
       "    <tr>\n",
       "      <th>3</th>\n",
       "      <td>28000000</td>\n",
       "      <td>3 weeks ago</td>\n",
       "      <td>The Disturbing Case of Ethan Windom</td>\n",
       "      <td>https://www.youtube.com/watch?v=nInpsReK8Sk</td>\n",
       "      <td>2023-11-04</td>\n",
       "    </tr>\n",
       "    <tr>\n",
       "      <th>4</th>\n",
       "      <td>24000000</td>\n",
       "      <td>1 month ago</td>\n",
       "      <td>Killer LAUGHS About Mugshot After Murdering Ex</td>\n",
       "      <td>https://www.youtube.com/watch?v=OTE59yYMm0Q</td>\n",
       "      <td>2023-10-26</td>\n",
       "    </tr>\n",
       "  </tbody>\n",
       "</table>\n",
       "</div>"
      ],
      "text/plain": [
       "      views       video_age                                           title  \\\n",
       "0     49000  58 minutes ago                 When a Killer Vlogs His Murders   \n",
       "1  34000000      5 days ago       When Evil Teens Think Murder is Hilarious   \n",
       "2  38000000     3 weeks ago             The Disturbing Case of Daniel Marsh   \n",
       "3  28000000     3 weeks ago             The Disturbing Case of Ethan Windom   \n",
       "4  24000000     1 month ago  Killer LAUGHS About Mugshot After Murdering Ex   \n",
       "\n",
       "                                           url upload_date(estimate)  \n",
       "0  https://www.youtube.com/watch?v=-vorUEpbHNU            2023-11-24  \n",
       "1  https://www.youtube.com/watch?v=KC0GtU_Dtdo            2023-11-20  \n",
       "2  https://www.youtube.com/watch?v=Fwvm3pQCJlg            2023-11-04  \n",
       "3  https://www.youtube.com/watch?v=nInpsReK8Sk            2023-11-04  \n",
       "4  https://www.youtube.com/watch?v=OTE59yYMm0Q            2023-10-26  "
      ]
     },
     "execution_count": 29,
     "metadata": {},
     "output_type": "execute_result"
    }
   ],
   "source": [
    "option = webdriver.ChromeOptions()\n",
    "option.add_argument(\"start-maximized\")\n",
    "# Set the language to English\n",
    "option.add_argument(\"--lang=en\")\n",
    "\n",
    "\n",
    "driver = webdriver.Chrome(service=Service(ChromeDriverManager().install()),options=option)\n",
    "\n",
    "# Type the channel name here to scrape the videos\n",
    "channel_name = \"ExploreWithUs\"\n",
    "\n",
    "# Customize the sleep time according to your internet speed\n",
    "df = get_video_data_from_channel(driver,channel_url=None,channel_name=channel_name, use_name = True, sleep_time=4)\n",
    "\n",
    "df = preprocess_and_save_csv(df, channel_name)\n",
    "\n",
    "df.head()"
   ]
  }
 ],
 "metadata": {
  "kernelspec": {
   "display_name": "Python 3",
   "language": "python",
   "name": "python3"
  },
  "language_info": {
   "codemirror_mode": {
    "name": "ipython",
    "version": 3
   },
   "file_extension": ".py",
   "mimetype": "text/x-python",
   "name": "python",
   "nbconvert_exporter": "python",
   "pygments_lexer": "ipython3",
   "version": "3.9.0"
  }
 },
 "nbformat": 4,
 "nbformat_minor": 2
}
